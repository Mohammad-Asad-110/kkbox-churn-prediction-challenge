{
 "cells": [
  {
   "cell_type": "markdown",
   "metadata": {},
   "source": [
    "# What is the Problem?"
   ]
  },
  {
   "cell_type": "markdown",
   "metadata": {},
   "source": [
    "<font color='blue' size='3'><strong>  WSDM - KKBox's Churn Prediction Challenge  </strong></font>"
   ]
  },
  {
   "cell_type": "markdown",
   "metadata": {},
   "source": [
    "## What is Churn ?"
   ]
  },
  {
   "cell_type": "markdown",
   "metadata": {},
   "source": [
    "<img src='https://i.imgur.com/PyPQPZe.png'> <center> Source:custify.com</center>"
   ]
  },
  {
   "cell_type": "markdown",
   "metadata": {},
   "source": [
    "Churn quantifies the number of customers who have left your brand by cancelling their subscription or stopping paying for your services.<br><br>Source:https://www.appier.com/blog/churn-prediction/"
   ]
  },
  {
   "cell_type": "markdown",
   "metadata": {},
   "source": [
    "## Business Impact"
   ]
  },
  {
   "cell_type": "markdown",
   "metadata": {},
   "source": [
    "Since the music streaming service providers are becoming<br>\n",
    "more competitive day by day one of the major problem these companies are<br>\n",
    "facing is customer retention.<br>\n",
    "High Churn Rate is  bad news for any business as it costs five times as much to attract a <br>\n",
    "new customer as it does to keep an existing one. <br>\n",
    "A high customer churn rate will hit your company’s finances hard.<br>"
   ]
  },
  {
   "attachments": {},
   "cell_type": "markdown",
   "metadata": {},
   "source": [
    "<img src='https://i.imgur.com/y8KEVDy.png'> <center>kkbox.com</center>"
   ]
  },
  {
   "cell_type": "markdown",
   "metadata": {},
   "source": [
    "## Prbolem Statement"
   ]
  },
  {
   "cell_type": "markdown",
   "metadata": {},
   "source": [
    "<b>To predict whether a user will churn after his/her subscription expires</b>.<br>\n",
    "Specifically, we want to forecast if a user make a new service subscription transaction within 30 days after the current membership expiration date.\n"
   ]
  },
  {
   "cell_type": "markdown",
   "metadata": {},
   "source": [
    "## Client"
   ]
  },
  {
   "cell_type": "markdown",
   "metadata": {},
   "source": [
    "KKBOX is Asia’s leading music streaming service,<br>\n",
    "holding the world’s most comprehensive Asia-Pop music library with over 30 million tracks,<br>\n",
    "supported by advertising and paid subscriptions.<br>"
   ]
  },
  {
   "cell_type": "markdown",
   "metadata": {},
   "source": [
    "## USeful Links\n",
    "<ul>\n",
    "<li>https://www.kaggle.com/c/kkbox-churn-prediction-challenge\n",
    "<li>https://arxiv.org/ftp/arxiv/papers/1802/1802.03396.pdf\n",
    "<li>https://www.appier.com/blog/churn-prediction/\n",
    "</ul>"
   ]
  },
  {
   "cell_type": "markdown",
   "metadata": {},
   "source": [
    "## Business objective and constraints"
   ]
  },
  {
   "cell_type": "markdown",
   "metadata": {},
   "source": [
    "The company uses survival analysis techniques to determine the residual membership life time for each subscriber.<br>\n",
    "By adopting different methods, KKBOX anticipates they’ll discover new insights to why users leave <br>\n",
    "Accurately predicting churn is critical to long-term success.<br>\n",
    "Even slight variations in churn can drastically affect profits.<br>\n",
    "No latency connstrains<br>\n",
    "Minimum error<br>\n",
    "Have probabilistic Output<br>"
   ]
  },
  {
   "cell_type": "markdown",
   "metadata": {},
   "source": [
    "# Machine Learning Problem"
   ]
  },
  {
   "cell_type": "markdown",
   "metadata": {},
   "source": [
    "Description"
   ]
  },
  {
   "cell_type": "markdown",
   "metadata": {},
   "source": [
    "The churn/renewal definition can be tricky due to KKBox's subscription model. Since the majority of KKBox's subscription length is 30 days, a lot of users re-subscribe every month. The key fields to determine churn/renewal are transaction date, membership expiration date, and is_cancel. Note that the is_cancel field indicates whether a user actively cancels a subscription. Subscription cancellation does not imply the user has churned. A user may cancel service subscription due to change of service plans or other reasons. The criteria of \"churn\" is no new valid service subscription within 30 days after the current membership expires."
   ]
  },
  {
   "cell_type": "markdown",
   "metadata": {},
   "source": [
    "The training and the test data are selected from users whose membership expire within a certain month. The train data consists of users whose subscription expires within the month of February 2017, and the test data is with users whose subscription expires within the month of March 2017. This means we are looking at user churn or renewal roughly in the month of March 2017 for train set, and the user churn or renewal roughly in the month of April 2017. Train and test sets are split by transaction date,"
   ]
  },
  {
   "attachments": {},
   "cell_type": "markdown",
   "metadata": {},
   "source": [
    "<img src='https://i.imgur.com/m2mph9j.jpg'>\n",
    "<center> source:visualstudiomagazine.com</center>"
   ]
  },
  {
   "cell_type": "markdown",
   "metadata": {},
   "source": [
    "## Data"
   ]
  },
  {
   "cell_type": "markdown",
   "metadata": {},
   "source": [
    "<b>train_v2.csv</b>\n",
    "<br>\n",
    "the train set, containing the user ids and whether they have churned.\n",
    "<br>\n",
    "<ul>\n",
    "    <li>msno: user id<br>\n",
    "    <li>is_churn: This is the target variable. Churn is defined as whether the user did not continue the subscription within 30 days of expiration. is_churn = 1 means churn,is_churn = 0 means renewal.\n",
    "</ul>"
   ]
  },
  {
   "cell_type": "markdown",
   "metadata": {},
   "source": [
    "<b>sample_submission_v2.csv</b>\n",
    "<br>\n",
    "<ul>\n",
    "    <li>msno: user id<br>\n",
    "    <li>is_churn: This is the target variable. Churn is defined as whether the user did not continue the subscription within 30 days of expiration. is_churn = 1 means churn,is_churn = 0 means renewal.\n",
    "</ul>"
   ]
  },
  {
   "cell_type": "markdown",
   "metadata": {},
   "source": [
    "<b>transactions.csv</b><br>\n",
    "transactions of users up until 2/28/2017.<br>\n",
    "<ul>\n",
    "<li>msno: user id\n",
    "<li>payment_method_id: payment method\n",
    "<li>payment_plan_days: length of membership plan in days\n",
    "plan_list_price: in New Taiwan Dollar (NTD)\n",
    "<li>actual_amount_paid: in New Taiwan Dollar (NTD)\n",
    "<li>is_auto_renew\n",
    "<li>transaction_date: format %Y%m%d\n",
    "<li>membership_expire_date: format %Y%m%d\n",
    "<li>is_cancel: whether or not the user canceled the membership in this transaction.\n",
    "</ul>"
   ]
  },
  {
   "cell_type": "markdown",
   "metadata": {},
   "source": [
    "<b>user_logs.csv</b><br>\n",
    "daily user logs describing listening behaviors of a user. Data collected until 2/28/2017.\n",
    "<ul>\n",
    "<li>msno: user id\n",
    "<li>date: format %Y%m%d\n",
    "<li>num_25: # of songs played less than 25% of the song length\n",
    "<li>num_50: # of songs played between 25% to 50% of the song length\n",
    "<li>num_75: # of songs played between 50% to 75% of of the song length\n",
    "<li>num_985: # of songs played between 75% to 98.5% of the song length\n",
    "<li>num_100: # of songs played over 98.5% of the song length\n",
    "<li>num_unq: # of unique songs played\n",
    "<li>total_secs: total seconds played\n",
    "</ul>"
   ]
  },
  {
   "cell_type": "markdown",
   "metadata": {},
   "source": [
    "<b>members.csv</b>\n",
    "user information. Note that not every user in the dataset is available.<br>\n",
    "<ul>\n",
    "<li>msno\n",
    "<li>city\n",
    "<li>bd: age\n",
    "<li>gender\n",
    "<li>registered_via: registration method\n",
    "<li>registration_init_time: format %Y%m%d\n",
    "</ul>"
   ]
  },
  {
   "cell_type": "markdown",
   "metadata": {},
   "source": [
    "Sample DataPoints"
   ]
  },
  {
   "cell_type": "markdown",
   "metadata": {},
   "source": [
    "Train.csv"
   ]
  },
  {
   "cell_type": "markdown",
   "metadata": {},
   "source": [
    "<pre>\tmsno\tis_churn\n",
    "0\twaLDQMmcOu2jLDaV1ddDkgCrB/jl6sD66Xzs0Vqax1Y=\t1\n",
    "1\tQA7uiXy8vIbUSPOkCf9RwQ3FsT8jVq2OxDr8zqa7bRQ=\t1\n",
    "2\tfGwBva6hikQmTJzrbz/2Ezjm5Cth5jZUNvXigKK2AFA=\t1\n",
    "3\tmT5V8rEpa+8wuqi6x0DoVd3H5icMKkE9Prt49UlmK+4=\t1\n",
    "4\tXaPhtGLk/5UvvOYHcONTwsnH97P4eGECeq+BARGItRw=\t1\n",
    "</pre>"
   ]
  },
  {
   "cell_type": "markdown",
   "metadata": {},
   "source": [
    "Members.csv"
   ]
  },
  {
   "cell_type": "markdown",
   "metadata": {},
   "source": [
    "<pre>\n",
    "\t                    msno\t                  \tcity\tbd\tgender\tregistered_via\tregistration_init_time\n",
    "0\twaLDQMmcOu2jLDaV1ddDkgCrB/jl6sD66Xzs0Vqax1Y=\t\t18.0\t36.0\tfemale\t9.0 \t20050406.0\n",
    "1\tQA7uiXy8vIbUSPOkCf9RwQ3FsT8jVq2OxDr8zqa7bRQ=\t\t10.0\t38.0\tmale\t9.0 \t  20050407.0\n",
    "2\tfGwBva6hikQmTJzrbz/2Ezjm5Cth5jZUNvXigKK2AFA=\t\t11.0\t27.0\tfemale\t9.0\t 20051016.0\n",
    "3\tmT5V8rEpa+8wuqi6x0DoVd3H5icMKkE9Prt49UlmK+4=\t\t13.0\t23.0\tfemale\t9.0\t 20051102.0\n",
    "4\tXaPhtGLk/5UvvOYHcONTwsnH97P4eGECeq+BARGItRw=\t\t3.0\t27.0\t    male\t9.0    20051228.0\n",
    "\n",
    "</pre>"
   ]
  },
  {
   "cell_type": "markdown",
   "metadata": {},
   "source": [
    "## Posing as a Machine Learning Problem\n",
    "<br>\n",
    "Binary class classification : is_churn either 0 or 1"
   ]
  },
  {
   "cell_type": "markdown",
   "metadata": {},
   "source": [
    "## Evaluration Metrics\n",
    "<br>\n",
    "LogLoss: KPI<br>\n",
    "Other metric to keep track<br>\n",
    "Confusion Matrix<br>\n",
    "F1 Score\n"
   ]
  },
  {
   "cell_type": "markdown",
   "metadata": {},
   "source": [
    "## USeful Blogs And Reference\n",
    "<ul>\n",
    "<li>https://www.geeksforgeeks.org/python-working-with-date-and-time-using-pandas/\n",
    "<li>https://www.kaggle.com/c/kkbox-churn-prediction-challenge/discussion/46078\n",
    "<li>https://www.kaggle.com/jeru666/did-you-think-of-these-features\n",
    "<li>https://arxiv.org/ftp/arxiv/papers/1802/1802.03396.pdf\n",
    "</ul>"
   ]
  },
  {
   "cell_type": "markdown",
   "metadata": {},
   "source": [
    "Next"
   ]
  },
  {
   "cell_type": "markdown",
   "metadata": {},
   "source": [
    "# Exploratory Data Analysis"
   ]
  },
  {
   "cell_type": "markdown",
   "metadata": {},
   "source": [
    "What do you want me to stay - EDA-KKBOX"
   ]
  },
  {
   "cell_type": "code",
   "execution_count": null,
   "metadata": {},
   "outputs": [],
   "source": []
  },
  {
   "cell_type": "code",
   "execution_count": null,
   "metadata": {},
   "outputs": [],
   "source": []
  },
  {
   "cell_type": "code",
   "execution_count": null,
   "metadata": {},
   "outputs": [],
   "source": []
  },
  {
   "cell_type": "code",
   "execution_count": null,
   "metadata": {},
   "outputs": [],
   "source": []
  },
  {
   "cell_type": "code",
   "execution_count": null,
   "metadata": {},
   "outputs": [],
   "source": []
  },
  {
   "cell_type": "code",
   "execution_count": null,
   "metadata": {},
   "outputs": [],
   "source": []
  },
  {
   "cell_type": "code",
   "execution_count": null,
   "metadata": {},
   "outputs": [],
   "source": []
  },
  {
   "cell_type": "code",
   "execution_count": null,
   "metadata": {},
   "outputs": [],
   "source": []
  }
 ],
 "metadata": {
  "kernelspec": {
   "display_name": "Python 3",
   "language": "python",
   "name": "python3"
  },
  "language_info": {
   "codemirror_mode": {
    "name": "ipython",
    "version": 3
   },
   "file_extension": ".py",
   "mimetype": "text/x-python",
   "name": "python",
   "nbconvert_exporter": "python",
   "pygments_lexer": "ipython3",
   "version": "3.7.4"
  }
 },
 "nbformat": 4,
 "nbformat_minor": 2
}
